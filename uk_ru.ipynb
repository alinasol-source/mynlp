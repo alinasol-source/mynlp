{
  "nbformat": 4,
  "nbformat_minor": 0,
  "metadata": {
    "colab": {
      "name": "uk_ru.ipynb",
      "provenance": [],
      "collapsed_sections": []
    },
    "kernelspec": {
      "name": "python3",
      "display_name": "Python 3"
    }
  },
  "cells": [
    {
      "cell_type": "code",
      "metadata": {
        "colab": {
          "base_uri": "https://localhost:8080/"
        },
        "id": "o2dqGU0_6wYR",
        "outputId": "d3f25c96-836a-4e49-e813-8b8ec13ba3af"
      },
      "source": [
        "from google.colab import drive\r\n",
        "drive.mount('/content/drive')"
      ],
      "execution_count": null,
      "outputs": [
        {
          "output_type": "stream",
          "text": [
            "Mounted at /content/drive\n"
          ],
          "name": "stdout"
        }
      ]
    },
    {
      "cell_type": "code",
      "metadata": {
        "colab": {
          "base_uri": "https://localhost:8080/"
        },
        "id": "5u2tT_x27SyW",
        "outputId": "3e361deb-8e18-4783-e2cf-e03285dfcae2"
      },
      "source": [
        "!ls \"/content/drive/My Drive\""
      ],
      "execution_count": null,
      "outputs": [
        {
          "output_type": "stream",
          "text": [
            " cc.ru.300.vec.zip   cc.uk.300.vec.zip\t quora.txt\t\t     курсач\n",
            " cc.uk.300.txt\t    'Colab Notebooks'\t vehicles_and_polygons.kml\n"
          ],
          "name": "stdout"
        }
      ]
    },
    {
      "cell_type": "code",
      "metadata": {
        "id": "6tIv8O8t7Y8V"
      },
      "source": [
        "!cp \"/content/drive/My Drive/cc.uk.300.txt\" \"cc.uk.300.txt\""
      ],
      "execution_count": null,
      "outputs": []
    },
    {
      "cell_type": "code",
      "metadata": {
        "colab": {
          "base_uri": "https://localhost:8080/"
        },
        "id": "Liixx6T57n-w",
        "outputId": "3543a14c-4d5a-4e7e-c629-29eb2110ceb2"
      },
      "source": [
        "!ls\r\n"
      ],
      "execution_count": null,
      "outputs": [
        {
          "output_type": "stream",
          "text": [
            "cc.uk.300.txt  drive  sample_data\n"
          ],
          "name": "stdout"
        }
      ]
    },
    {
      "cell_type": "code",
      "metadata": {
        "id": "KhxRNXyd71Hd"
      },
      "source": [
        "import gensim\r\n",
        "import numpy as np\r\n",
        "from gensim.models import KeyedVectors"
      ],
      "execution_count": null,
      "outputs": []
    },
    {
      "cell_type": "code",
      "metadata": {
        "id": "yxnzoA4f77S6"
      },
      "source": [
        "uk_emb = KeyedVectors.load_word2vec_format(\"cc.uk.300.txt\")"
      ],
      "execution_count": null,
      "outputs": []
    },
    {
      "cell_type": "code",
      "metadata": {
        "colab": {
          "base_uri": "https://localhost:8080/"
        },
        "id": "kzrF0J4N8sAA",
        "outputId": "345de614-b617-436f-83db-46cc822384d2"
      },
      "source": [
        "uk_emb.most_similar([uk_emb[\"серпень\"]])"
      ],
      "execution_count": null,
      "outputs": [
        {
          "output_type": "execute_result",
          "data": {
            "text/plain": [
              "[('серпень', 0.9999999403953552),\n",
              " ('липень', 0.9096440076828003),\n",
              " ('вересень', 0.901697039604187),\n",
              " ('червень', 0.8992519378662109),\n",
              " ('жовтень', 0.8810408711433411),\n",
              " ('листопад', 0.8787633776664734),\n",
              " ('квітень', 0.8592804670333862),\n",
              " ('грудень', 0.8586863279342651),\n",
              " ('травень', 0.8408110737800598),\n",
              " ('лютий', 0.8256431818008423)]"
            ]
          },
          "metadata": {
            "tags": []
          },
          "execution_count": 8
        }
      ]
    },
    {
      "cell_type": "code",
      "metadata": {
        "colab": {
          "base_uri": "https://localhost:8080/"
        },
        "id": "s8mFg6v79sin",
        "outputId": "2278e2f0-08e3-42a5-faec-418d63976b0d"
      },
      "source": [
        "!ls \"/content/drive/My Drive\""
      ],
      "execution_count": null,
      "outputs": [
        {
          "output_type": "stream",
          "text": [
            " cc.ru.300.txt\t     cc.uk.300.vec.zip\t vehicles_and_polygons.kml\n",
            " cc.ru.300.vec.zip  'Colab Notebooks'\t курсач\n",
            " cc.uk.300.txt\t     quora.txt\n"
          ],
          "name": "stdout"
        }
      ]
    },
    {
      "cell_type": "code",
      "metadata": {
        "id": "7T-0rspi9zpF"
      },
      "source": [
        "!cp \"/content/drive/My Drive/cc.ru.300.txt\" \"cc.ru.300.txt\""
      ],
      "execution_count": null,
      "outputs": []
    },
    {
      "cell_type": "code",
      "metadata": {
        "colab": {
          "base_uri": "https://localhost:8080/"
        },
        "id": "gmHgLFm3-Aci",
        "outputId": "d24d8ac2-cbc1-417f-871b-2ef7a8a3260c"
      },
      "source": [
        "!ls"
      ],
      "execution_count": null,
      "outputs": [
        {
          "output_type": "stream",
          "text": [
            "cc.ru.300.txt  cc.uk.300.txt  drive  sample_data\n"
          ],
          "name": "stdout"
        }
      ]
    },
    {
      "cell_type": "code",
      "metadata": {
        "id": "c4z2iNGR-E02"
      },
      "source": [
        "ru_emb = KeyedVectors.load_word2vec_format(\"cc.ru.300.txt\")"
      ],
      "execution_count": null,
      "outputs": []
    },
    {
      "cell_type": "code",
      "metadata": {
        "colab": {
          "base_uri": "https://localhost:8080/"
        },
        "id": "cNpYaWYxCb53",
        "outputId": "95ceaff4-5bb6-4e65-fa6a-50142d74fce3"
      },
      "source": [
        "ru_emb.most_similar([ru_emb[\"август\"]], topn=10)"
      ],
      "execution_count": null,
      "outputs": [
        {
          "output_type": "execute_result",
          "data": {
            "text/plain": [
              "[('август', 1.0),\n",
              " ('июль', 0.9383153915405273),\n",
              " ('сентябрь', 0.9240028858184814),\n",
              " ('июнь', 0.9222575426101685),\n",
              " ('октябрь', 0.9095538854598999),\n",
              " ('ноябрь', 0.8930036425590515),\n",
              " ('апрель', 0.8729087114334106),\n",
              " ('декабрь', 0.8652557730674744),\n",
              " ('март', 0.8545796275138855),\n",
              " ('февраль', 0.8401416540145874)]"
            ]
          },
          "metadata": {
            "tags": []
          },
          "execution_count": 14
        }
      ]
    },
    {
      "cell_type": "code",
      "metadata": {
        "colab": {
          "base_uri": "https://localhost:8080/"
        },
        "id": "TI2vpdocCpYB",
        "outputId": "f0a30ea5-7a65-4e97-df33-e7026d3cb8ae"
      },
      "source": [
        "ru_emb.most_similar([uk_emb[\"серпень\"]])"
      ],
      "execution_count": null,
      "outputs": [
        {
          "output_type": "execute_result",
          "data": {
            "text/plain": [
              "[('Недопустимость', 0.24435284733772278),\n",
              " ('конструктивность', 0.23293080925941467),\n",
              " ('офор', 0.23256804049015045),\n",
              " ('deteydlya', 0.23031717538833618),\n",
              " ('пресечении', 0.22632381319999695),\n",
              " ('одностороннего', 0.22608885169029236),\n",
              " ('подход', 0.2230587601661682),\n",
              " ('иболее', 0.22003726661205292),\n",
              " ('2015Александр', 0.21872764825820923),\n",
              " ('конструктивен', 0.21796566247940063)]"
            ]
          },
          "metadata": {
            "tags": []
          },
          "execution_count": 15
        }
      ]
    },
    {
      "cell_type": "code",
      "metadata": {
        "id": "g1cov-z2CtOk"
      },
      "source": [
        "def load_word_pairs(filename):\r\n",
        "    uk_ru_pairs = []\r\n",
        "    uk_vectors = []\r\n",
        "    ru_vectors = []\r\n",
        "    with open(filename, \"r\") as inpf:\r\n",
        "        for line in inpf:\r\n",
        "            uk, ru = line.rstrip().split(\"\\t\")\r\n",
        "            if uk not in uk_emb or ru not in ru_emb:\r\n",
        "                continue\r\n",
        "            uk_ru_pairs.append((uk, ru))\r\n",
        "            uk_vectors.append(uk_emb[uk])\r\n",
        "            ru_vectors.append(ru_emb[ru])\r\n",
        "    return uk_ru_pairs, np.array(uk_vectors), np.array(ru_vectors)"
      ],
      "execution_count": null,
      "outputs": []
    },
    {
      "cell_type": "code",
      "metadata": {
        "id": "CMYrsed3Cu8j"
      },
      "source": [
        "!cp \"/content/drive/My Drive/ukr_rus.train.txt\" \"ukr_rus.train.txt\""
      ],
      "execution_count": null,
      "outputs": []
    },
    {
      "cell_type": "code",
      "metadata": {
        "id": "WFHRo6WyDKg2"
      },
      "source": [
        "!cp \"/content/drive/My Drive/ukr_rus.test.txt\" \"ukr_rus.test.txt\""
      ],
      "execution_count": null,
      "outputs": []
    },
    {
      "cell_type": "code",
      "metadata": {
        "colab": {
          "base_uri": "https://localhost:8080/"
        },
        "id": "tly9EkO4DQHj",
        "outputId": "0f58d03e-7ea2-49e6-ddb1-2b61472769e9"
      },
      "source": [
        "!ls"
      ],
      "execution_count": null,
      "outputs": [
        {
          "output_type": "stream",
          "text": [
            "cc.ru.300.txt  drive\t    ukr_rus.test.txt\n",
            "cc.uk.300.txt  sample_data  ukr_rus.train.txt\n"
          ],
          "name": "stdout"
        }
      ]
    },
    {
      "cell_type": "code",
      "metadata": {
        "id": "QKNMO100DTjS"
      },
      "source": [
        "uk_ru_train, X_train, Y_train = load_word_pairs(\"ukr_rus.train.txt\")"
      ],
      "execution_count": null,
      "outputs": []
    },
    {
      "cell_type": "code",
      "metadata": {
        "id": "_8A1FePWDaPO"
      },
      "source": [
        "uk_ru_test, X_test, Y_test = load_word_pairs(\"ukr_rus.test.txt\")"
      ],
      "execution_count": null,
      "outputs": []
    },
    {
      "cell_type": "code",
      "metadata": {
        "id": "DlwiVwnXDbjO"
      },
      "source": [
        "uk_ru_train"
      ],
      "execution_count": null,
      "outputs": []
    },
    {
      "cell_type": "code",
      "metadata": {
        "colab": {
          "base_uri": "https://localhost:8080/"
        },
        "id": "vCszpFfODkLS",
        "outputId": "4773fde1-164c-492e-c978-a4b47eb85457"
      },
      "source": [
        "from sklearn.linear_model import LinearRegression\r\n",
        "x = X_train\r\n",
        "y = Y_train\r\n",
        "model = LinearRegression().fit(x,y)\r\n",
        "r_sq = model.score(x,y)\r\n",
        "print('coefficient of determination:', r_sq)"
      ],
      "execution_count": null,
      "outputs": [
        {
          "output_type": "stream",
          "text": [
            "coefficient of determination: 0.5525150248971098\n"
          ],
          "name": "stdout"
        },
        {
          "output_type": "stream",
          "text": [
            "/usr/local/lib/python3.6/dist-packages/sklearn/base.py:434: FutureWarning: The default value of multioutput (not exposed in score method) will change from 'variance_weighted' to 'uniform_average' in 0.23 to keep consistent with 'metrics.r2_score'. To specify the default value manually and avoid the warning, please either call 'metrics.r2_score' directly or make a custom scorer with 'metrics.make_scorer' (the built-in scorer 'r2' uses multioutput='uniform_average').\n",
            "  \"multioutput='uniform_average').\", FutureWarning)\n"
          ],
          "name": "stderr"
        }
      ]
    },
    {
      "cell_type": "code",
      "metadata": {
        "colab": {
          "base_uri": "https://localhost:8080/"
        },
        "id": "wwfL5iBYEeBy",
        "outputId": "684132d8-b9b3-4e78-ad7d-f07d82726247"
      },
      "source": [
        "august = model.predict(uk_emb[\"серпень\"].reshape(1, -1))\r\n",
        "ru_emb.most_similar(august)"
      ],
      "execution_count": null,
      "outputs": [
        {
          "output_type": "execute_result",
          "data": {
            "text/plain": [
              "[('апрель', 0.8541592359542847),\n",
              " ('июнь', 0.8411962985992432),\n",
              " ('март', 0.8397400379180908),\n",
              " ('сентябрь', 0.8359213471412659),\n",
              " ('февраль', 0.8328747749328613),\n",
              " ('октябрь', 0.8311804533004761),\n",
              " ('ноябрь', 0.8278145790100098),\n",
              " ('июль', 0.8236349821090698),\n",
              " ('август', 0.8120611906051636),\n",
              " ('декабрь', 0.8037999272346497)]"
            ]
          },
          "metadata": {
            "tags": []
          },
          "execution_count": 30
        }
      ]
    },
    {
      "cell_type": "code",
      "metadata": {
        "id": "q2_8aA_6Evco"
      },
      "source": [
        ""
      ],
      "execution_count": null,
      "outputs": []
    }
  ]
}