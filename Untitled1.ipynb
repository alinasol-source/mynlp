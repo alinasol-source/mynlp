{
  "nbformat": 4,
  "nbformat_minor": 0,
  "metadata": {
    "colab": {
      "name": "Untitled1.ipynb",
      "provenance": [],
      "collapsed_sections": []
    },
    "kernelspec": {
      "name": "python3",
      "display_name": "Python 3"
    }
  },
  "cells": [
    {
      "cell_type": "code",
      "metadata": {
        "id": "iSm4J_m7CjAo"
      },
      "source": [
        "import numpy as np\r\n"
      ],
      "execution_count": 8,
      "outputs": []
    },
    {
      "cell_type": "code",
      "metadata": {
        "colab": {
          "base_uri": "https://localhost:8080/"
        },
        "id": "CM9dU8usFVeY",
        "outputId": "d8d505eb-debb-430c-f891-4e24f1d55db6"
      },
      "source": [
        "data = list(open(\"quora.txt\", encoding=\"utf-8\"))\r\n",
        "data[50]\r\n",
        "print(data[50].split())\r\n",
        "print(data[2].lower())"
      ],
      "execution_count": 58,
      "outputs": [
        {
          "output_type": "stream",
          "text": [
            "['What', 'TV', 'shows', 'or', 'books', 'help', 'you', 'read', \"people's\", 'body', 'language?']\n",
            "who were the great chinese soldiers and leaders who fought in ww2?\n",
            "\n"
          ],
          "name": "stdout"
        }
      ]
    },
    {
      "cell_type": "code",
      "metadata": {
        "colab": {
          "base_uri": "https://localhost:8080/"
        },
        "id": "CnKkUOa_Gny2",
        "outputId": "648353ef-9bf0-4440-912b-a71a94ee2456"
      },
      "source": [
        "from nltk.tokenize import WordPunctTokenizer\r\n",
        "tokenizer = WordPunctTokenizer()\r\n",
        "\r\n",
        "print(tokenizer.tokenize(data[50].lower()))"
      ],
      "execution_count": 41,
      "outputs": [
        {
          "output_type": "stream",
          "text": [
            "['what', 'tv', 'shows', 'or', 'books', 'help', 'you', 'read', 'people', \"'\", 's', 'body', 'language', '?']\n"
          ],
          "name": "stdout"
        }
      ]
    },
    {
      "cell_type": "code",
      "metadata": {
        "colab": {
          "base_uri": "https://localhost:8080/"
        },
        "id": "oT6n5OmuKL1C",
        "outputId": "705e373e-8f32-420a-f6ad-4e376ee2b107"
      },
      "source": [
        "print(len(data))"
      ],
      "execution_count": 22,
      "outputs": [
        {
          "output_type": "stream",
          "text": [
            "160921\n"
          ],
          "name": "stdout"
        }
      ]
    },
    {
      "cell_type": "code",
      "metadata": {
        "colab": {
          "base_uri": "https://localhost:8080/"
        },
        "id": "TJFZMhWfM4tN",
        "outputId": "4d027630-53df-4226-e5d7-10f038f46bcc"
      },
      "source": [
        "data_tok = []\r\n",
        "for i in range(len(data)):\r\n",
        "  data[i].lower()\r\n",
        "  data_tok.append(tokenizer.tokenize(data[i].lower()))\r\n",
        "\r\n",
        "print(data_tok[2])\r\n"
      ],
      "execution_count": 42,
      "outputs": [
        {
          "output_type": "stream",
          "text": [
            "['who', 'were', 'the', 'great', 'chinese', 'soldiers', 'and', 'leaders', 'who', 'fought', 'in', 'ww2', '?']\n"
          ],
          "name": "stdout"
        }
      ]
    },
    {
      "cell_type": "code",
      "metadata": {
        "colab": {
          "base_uri": "https://localhost:8080/"
        },
        "id": "lY44deNrPeFc",
        "outputId": "700cc061-99e8-4f3e-8e1d-fb0ed682f678"
      },
      "source": [
        "from gensim.models import Word2Vec\r\n",
        "model = Word2Vec(data_tok, \r\n",
        "                 size=32,\r\n",
        "                 min_count=5,\r\n",
        "                 window=5).wv\r\n",
        "model.get_vector('anything')                \r\n"
      ],
      "execution_count": 43,
      "outputs": [
        {
          "output_type": "execute_result",
          "data": {
            "text/plain": [
              "array([ 0.01982574, -1.4831965 ,  1.1835114 , -0.8704113 ,  0.7502372 ,\n",
              "       -0.20462053,  1.2542096 , -1.405858  ,  1.3860123 ,  0.81204605,\n",
              "        0.13366671, -0.17349751,  0.56733793,  1.707327  , -1.1970668 ,\n",
              "       -3.3712227 , -0.30963495,  0.11691636,  0.25999865, -2.4643471 ,\n",
              "        1.3629328 ,  0.95365113,  1.2905834 ,  0.9368206 , -0.9335147 ,\n",
              "        0.5726241 ,  1.3356093 , -1.3399309 , -0.45886713,  1.8431675 ,\n",
              "        1.1631619 , -0.96325505], dtype=float32)"
            ]
          },
          "metadata": {
            "tags": []
          },
          "execution_count": 43
        }
      ]
    },
    {
      "cell_type": "code",
      "metadata": {
        "colab": {
          "base_uri": "https://localhost:8080/"
        },
        "id": "cTav2lV8OGPu",
        "outputId": "3da51df4-cb5d-4dce-eabc-a2ba13c72dd3"
      },
      "source": [
        "model.most_similar('floor')"
      ],
      "execution_count": 51,
      "outputs": [
        {
          "output_type": "execute_result",
          "data": {
            "text/plain": [
              "[('room', 0.8233463764190674),\n",
              " ('bathroom', 0.7748165726661682),\n",
              " ('chair', 0.7669487595558167),\n",
              " ('stairs', 0.7516879439353943),\n",
              " ('front', 0.7507544755935669),\n",
              " ('desk', 0.7386958599090576),\n",
              " ('table', 0.7380250692367554),\n",
              " ('sitting', 0.7340028285980225),\n",
              " ('ground', 0.7330173850059509),\n",
              " ('window', 0.7305724620819092)]"
            ]
          },
          "metadata": {
            "tags": []
          },
          "execution_count": 51
        }
      ]
    },
    {
      "cell_type": "code",
      "metadata": {
        "colab": {
          "base_uri": "https://localhost:8080/"
        },
        "id": "kihmW6pFTYdM",
        "outputId": "0c3015b5-5a28-4798-a4dc-730ecedcb544"
      },
      "source": [
        "import gensim.downloader as api\r\n",
        "model = api.load('glove-twitter-100')"
      ],
      "execution_count": 47,
      "outputs": [
        {
          "output_type": "stream",
          "text": [
            "[==================================================] 100.0% 387.1/387.1MB downloaded\n"
          ],
          "name": "stdout"
        }
      ]
    },
    {
      "cell_type": "code",
      "metadata": {
        "colab": {
          "base_uri": "https://localhost:8080/"
        },
        "id": "4OIA-vCYUxuC",
        "outputId": "9d90ab83-1bd0-4be6-86b7-21f1c08d889a"
      },
      "source": [
        "model.most_similar(positive=[\"coder\", \"money\"], negative=[\"brain\"])"
      ],
      "execution_count": 50,
      "outputs": [
        {
          "output_type": "execute_result",
          "data": {
            "text/plain": [
              "[('broker', 0.5820155739784241),\n",
              " ('bonuses', 0.5424473285675049),\n",
              " ('banker', 0.538511335849762),\n",
              " ('designer', 0.5197198390960693),\n",
              " ('merchandising', 0.4964233934879303),\n",
              " ('treet', 0.49220192432403564),\n",
              " ('shopper', 0.4920561909675598),\n",
              " ('part-time', 0.49128279089927673),\n",
              " ('freelance', 0.4843311905860901),\n",
              " ('aupair', 0.4796452522277832)]"
            ]
          },
          "metadata": {
            "tags": []
          },
          "execution_count": 50
        }
      ]
    },
    {
      "cell_type": "code",
      "metadata": {
        "colab": {
          "base_uri": "https://localhost:8080/"
        },
        "id": "luYFOBikVkc6",
        "outputId": "5046ee61-9625-4482-e80f-0540bb2bdceb"
      },
      "source": [
        "words = sorted(model.vocab.keys(), \r\n",
        "               key=lambda word: model.vocab[word].count,\r\n",
        "               reverse=True)[:1000]\r\n",
        "\r\n",
        "print(words[::100])"
      ],
      "execution_count": 53,
      "outputs": [
        {
          "output_type": "stream",
          "text": [
            "['<user>', '_', 'please', 'apa', 'justin', 'text', 'hari', 'playing', 'once', 'sei']\n"
          ],
          "name": "stdout"
        }
      ]
    },
    {
      "cell_type": "code",
      "metadata": {
        "id": "SA-JCYs2V4t7"
      },
      "source": [
        ""
      ],
      "execution_count": null,
      "outputs": []
    },
    {
      "cell_type": "markdown",
      "metadata": {
        "id": "7S5OjtmvapeO"
      },
      "source": [
        "нужен массив word vectors чтобы посчитать вектор для каждого из слов. не знаю, как обратиться к конкретному слову. data[] обращается к строке "
      ]
    },
    {
      "cell_type": "code",
      "metadata": {
        "id": "kkkLNNaFbIcT"
      },
      "source": [
        ""
      ],
      "execution_count": null,
      "outputs": []
    }
  ]
}